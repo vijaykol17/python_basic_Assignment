{
 "cells": [
  {
   "cell_type": "code",
   "execution_count": 13,
   "id": "ac2d08ec-69bf-4389-846f-d2e6561834b9",
   "metadata": {},
   "outputs": [
    {
     "name": "stdout",
     "output_type": "stream",
     "text": [
      "Number after swap x= 30  y= 20\n"
     ]
    }
   ],
   "source": [
    "#Question 1: Python Basic  Swapping Number\n",
    "#Taking Input from user\n",
    "x=20\n",
    "y=30\n",
    "#swaping number logic with temp number\n",
    "x=x+y\n",
    "y=x-y\n",
    "x=x-y\n",
    "#out put aftre swapping\n",
    "print('Number after swap x=',x,' y=',y)"
   ]
  },
  {
   "cell_type": "code",
   "execution_count": 12,
   "id": "c40d3797-c186-45d7-b03d-5964bbe13902",
   "metadata": {},
   "outputs": [
    {
     "name": "stdin",
     "output_type": "stream",
     "text": [
      "Enter the lenght of reactangle 25\n",
      "Enter the width of reactangle 10\n"
     ]
    },
    {
     "name": "stdout",
     "output_type": "stream",
     "text": [
      "Area of reactangle 250\n"
     ]
    }
   ],
   "source": [
    "#Question 2: Python Basic Reactangle Area\n",
    "length = int(input(\"Enter the lenght of reactangle\"))\n",
    "width = int(input(\"Enter the width of reactangle\"))\n",
    "area = length*width\n",
    "print(\"Area of reactangle\", area)"
   ]
  },
  {
   "cell_type": "code",
   "execution_count": 15,
   "id": "fb657e6f-7742-44c1-894e-8b330144f681",
   "metadata": {},
   "outputs": [
    {
     "name": "stdin",
     "output_type": "stream",
     "text": [
      "Enter the Temperature in Celsius  30\n"
     ]
    },
    {
     "name": "stdout",
     "output_type": "stream",
     "text": [
      "Temperature in Fahrenheit : 86.0\n"
     ]
    }
   ],
   "source": [
    "#Question 3: Python Basic Temparature conversion\n",
    "temp_celsius = int(input(\"Enter the Temperature in Celsius \"))\n",
    "temp_fahrenheit = (1.8 * temp_celsius) + 32.\n",
    "print(\"Temperature in Fahrenheit :\", temp_fahrenheit)"
   ]
  },
  {
   "cell_type": "code",
   "execution_count": 16,
   "id": "662d0801-1d4a-43be-9fb2-604157e336ac",
   "metadata": {},
   "outputs": [
    {
     "name": "stdin",
     "output_type": "stream",
     "text": [
      "Enter the string vijay kolekar\n"
     ]
    },
    {
     "name": "stdout",
     "output_type": "stream",
     "text": [
      "length of the string 13\n"
     ]
    }
   ],
   "source": [
    "#Question 1: String Basic  String length\n",
    "input_String = input(\"Enter the string\")\n",
    "print('length of the string',len(input_String))"
   ]
  },
  {
   "cell_type": "code",
   "execution_count": 24,
   "id": "aa8ec2c4-2d78-493c-8101-844e7f2909f5",
   "metadata": {},
   "outputs": [
    {
     "name": "stdin",
     "output_type": "stream",
     "text": [
      "Enter String qas\n"
     ]
    },
    {
     "name": "stdout",
     "output_type": "stream",
     "text": [
      "Number of vowels in string 1\n"
     ]
    }
   ],
   "source": [
    "#Question 2: String Basic  count vowels\n",
    "input_String = input(\"Enter String\")\n",
    "count =0\n",
    "for s in input_String:\n",
    "    if s=='a' or s =='e' or s =='i' or s=='o' or s=='u':\n",
    "        count=count+1\n",
    "print(\"Number of vowels in string\",count)"
   ]
  },
  {
   "cell_type": "code",
   "execution_count": 26,
   "id": "c522c1b9-d9f1-4306-9145-00e7d2851a57",
   "metadata": {},
   "outputs": [
    {
     "name": "stdin",
     "output_type": "stream",
     "text": [
      "Enter String vijay\n"
     ]
    },
    {
     "name": "stdout",
     "output_type": "stream",
     "text": [
      "Reversed String yajiv\n"
     ]
    }
   ],
   "source": [
    "#Question 3: String Basic  String reversal using slice\n",
    "input_String = input(\"Enter String\")\n",
    "reversed_String = input_String[::-1]\n",
    "print(\"Reversed String\",reversed_String)"
   ]
  },
  {
   "cell_type": "code",
   "execution_count": 28,
   "id": "91e675c1-b693-4e23-8400-cbdbee809224",
   "metadata": {},
   "outputs": [
    {
     "name": "stdin",
     "output_type": "stream",
     "text": [
      "Enter String aba\n"
     ]
    },
    {
     "name": "stdout",
     "output_type": "stream",
     "text": [
      "String is palindrom string\n"
     ]
    }
   ],
   "source": [
    "#Question 4: String Basic check string is palindrom String\n",
    "input_String = input(\"Enter String\")\n",
    "reversed_String = input_String[::-1]\n",
    "if input_String == reversed_String:\n",
    "    print(\"String is palindrom string\")\n",
    "else:\n",
    "    print(\"String is not palindrom string\")"
   ]
  },
  {
   "cell_type": "code",
   "execution_count": 30,
   "id": "4188bc7b-26c8-4e60-909e-87f464c1ad59",
   "metadata": {},
   "outputs": [
    {
     "name": "stdin",
     "output_type": "stream",
     "text": [
      "Enter String  vijay kolekat\n"
     ]
    },
    {
     "name": "stdout",
     "output_type": "stream",
     "text": [
      "String after removing white spaces vijaykolekat\n"
     ]
    }
   ],
   "source": [
    "#Question 5: String Basic Remove spaces from string\n",
    "input_String = input(\"Enter String\")\n",
    "modified_String = input_String.replace(\" \",\"\")\n",
    "print(\"String after removing white spaces\",modified_String)"
   ]
  },
  {
   "cell_type": "code",
   "execution_count": null,
   "id": "f5a864d4-1d73-40ce-9e6a-99dd788a0f39",
   "metadata": {},
   "outputs": [],
   "source": []
  }
 ],
 "metadata": {
  "kernelspec": {
   "display_name": "Python 3 (ipykernel)",
   "language": "python",
   "name": "python3"
  },
  "language_info": {
   "codemirror_mode": {
    "name": "ipython",
    "version": 3
   },
   "file_extension": ".py",
   "mimetype": "text/x-python",
   "name": "python",
   "nbconvert_exporter": "python",
   "pygments_lexer": "ipython3",
   "version": "3.10.8"
  }
 },
 "nbformat": 4,
 "nbformat_minor": 5
}
